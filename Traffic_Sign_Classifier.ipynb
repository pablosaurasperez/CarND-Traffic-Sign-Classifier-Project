{
 "cells": [
  {
   "cell_type": "markdown",
   "metadata": {},
   "source": [
    "# Self-Driving Car Engineer Nanodegree\n",
    "\n",
    "## Deep Learning\n",
    "\n",
    "## Project: Build a Traffic Sign Recognition Classifier\n",
    "\n",
    "In this notebook, a template is provided for you to implement your functionality in stages, which is required to successfully complete this project. If additional code is required that cannot be included in the notebook, be sure that the Python code is successfully imported and included in your submission if necessary. \n",
    "\n",
    "> **Note**: Once you have completed all of the code implementations, you need to finalize your work by exporting the iPython Notebook as an HTML document. Before exporting the notebook to html, all of the code cells need to have been run so that reviewers can see the final implementation and output. You can then export the notebook by using the menu above and navigating to  \\n\",\n",
    "    \"**File -> Download as -> HTML (.html)**. Include the finished document along with this notebook as your submission. \n",
    "\n",
    "In addition to implementing code, there is a writeup to complete. The writeup should be completed in a separate file, which can be either a markdown file or a pdf document. There is a [write up template](https://github.com/udacity/CarND-Traffic-Sign-Classifier-Project/blob/master/writeup_template.md) that can be used to guide the writing process. Completing the code template and writeup template will cover all of the [rubric points](https://review.udacity.com/#!/rubrics/481/view) for this project.\n",
    "\n",
    "The [rubric](https://review.udacity.com/#!/rubrics/481/view) contains \"Stand Out Suggestions\" for enhancing the project beyond the minimum requirements. The stand out suggestions are optional. If you decide to pursue the \"stand out suggestions\", you can include the code in this Ipython notebook and also discuss the results in the writeup file.\n",
    "\n",
    "\n",
    ">**Note:** Code and Markdown cells can be executed using the **Shift + Enter** keyboard shortcut. In addition, Markdown cells can be edited by typically double-clicking the cell to enter edit mode."
   ]
  },
  {
   "cell_type": "markdown",
   "metadata": {},
   "source": [
    "---\n",
    "## Step 0: Load The Data"
   ]
  },
  {
   "cell_type": "code",
   "execution_count": 1,
   "metadata": {},
   "outputs": [
    {
     "name": "stdout",
     "output_type": "stream",
     "text": [
      "Sets loaded\n"
     ]
    }
   ],
   "source": [
    "# Load pickled data\n",
    "import pickle\n",
    "\n",
    "# TODO: Fill this in based on where you saved the training and testing data\n",
    "\n",
    "training_file = \"train.p\"\n",
    "validation_file= \"valid.p\"\n",
    "testing_file = \"test.p\"\n",
    "\n",
    "with open(training_file, mode='rb') as f:\n",
    "    train = pickle.load(f)\n",
    "with open(validation_file, mode='rb') as f:\n",
    "    valid = pickle.load(f)\n",
    "with open(testing_file, mode='rb') as f:\n",
    "    test = pickle.load(f)\n",
    "    \n",
    "X_train, y_train = train['features'], train['labels']\n",
    "X_valid, y_valid = valid['features'], valid['labels']\n",
    "X_test, y_test = test['features'], test['labels']\n",
    "\n",
    "print(\"Sets loaded\")\n"
   ]
  },
  {
   "cell_type": "markdown",
   "metadata": {},
   "source": [
    "---\n",
    "\n",
    "## Step 1: Dataset Summary & Exploration\n",
    "\n",
    "The pickled data is a dictionary with 4 key/value pairs:\n",
    "\n",
    "- `'features'` is a 4D array containing raw pixel data of the traffic sign images, (num examples, width, height, channels).\n",
    "- `'labels'` is a 1D array containing the label/class id of the traffic sign. The file `signnames.csv` contains id -> name mappings for each id.\n",
    "- `'sizes'` is a list containing tuples, (width, height) representing the original width and height the image.\n",
    "- `'coords'` is a list containing tuples, (x1, y1, x2, y2) representing coordinates of a bounding box around the sign in the image. **THESE COORDINATES ASSUME THE ORIGINAL IMAGE. THE PICKLED DATA CONTAINS RESIZED VERSIONS (32 by 32) OF THESE IMAGES**\n",
    "\n",
    "Complete the basic data summary below. Use python, numpy and/or pandas methods to calculate the data summary rather than hard coding the results. For example, the [pandas shape method](http://pandas.pydata.org/pandas-docs/stable/generated/pandas.DataFrame.shape.html) might be useful for calculating some of the summary results. "
   ]
  },
  {
   "cell_type": "markdown",
   "metadata": {},
   "source": [
    "### Provide a Basic Summary of the Data Set Using Python, Numpy and/or Pandas"
   ]
  },
  {
   "cell_type": "code",
   "execution_count": 2,
   "metadata": {},
   "outputs": [
    {
     "name": "stdout",
     "output_type": "stream",
     "text": [
      "Number of training examples = 34799\n",
      "Number of validation examples = 4410\n",
      "Number of testing examples = 12630\n",
      "Image data shape = (32, 32, 3)\n",
      "Number of classes = 43\n"
     ]
    }
   ],
   "source": [
    "### Replace each question mark with the appropriate value. \n",
    "### Use python, pandas or numpy methods rather than hard coding the results\n",
    "\n",
    "import numpy as np\n",
    "import pandas as pd\n",
    "\n",
    "# TODO: Number of training examples\n",
    "n_train = len(X_train)\n",
    "\n",
    "# TODO: Number of validation examples\n",
    "n_validation = len(X_valid)\n",
    "\n",
    "# TODO: Number of testing examples.\n",
    "n_test = len(X_test)\n",
    "\n",
    "# TODO: What's the shape of an traffic sign image?\n",
    "image_shape = X_train[0].shape\n",
    "\n",
    "# TODO: How many unique classes/labels there are in the dataset.\n",
    "df = pd.read_csv('signnames.csv')\n",
    "n_classes = df.shape[0]\n",
    "\n",
    "print(\"Number of training examples =\", n_train)\n",
    "print(\"Number of validation examples =\", n_validation)\n",
    "print(\"Number of testing examples =\", n_test)\n",
    "print(\"Image data shape =\", image_shape)\n",
    "print(\"Number of classes =\", n_classes)"
   ]
  },
  {
   "cell_type": "markdown",
   "metadata": {},
   "source": [
    "### Include an exploratory visualization of the dataset"
   ]
  },
  {
   "cell_type": "markdown",
   "metadata": {},
   "source": [
    "Visualize the German Traffic Signs Dataset using the pickled file(s). This is open ended, suggestions include: plotting traffic sign images, plotting the count of each sign, etc. \n",
    "\n",
    "The [Matplotlib](http://matplotlib.org/) [examples](http://matplotlib.org/examples/index.html) and [gallery](http://matplotlib.org/gallery.html) pages are a great resource for doing visualizations in Python.\n",
    "\n",
    "**NOTE:** It's recommended you start with something simple first. If you wish to do more, come back to it after you've completed the rest of the sections. It can be interesting to look at the distribution of classes in the training, validation and test set. Is the distribution the same? Are there more examples of some classes than others?"
   ]
  },
  {
   "cell_type": "code",
   "execution_count": 3,
   "metadata": {},
   "outputs": [
    {
     "name": "stdout",
     "output_type": "stream",
     "text": [
      "Priority road\n"
     ]
    },
    {
     "data": {
      "image/png": "[encoded data removed]",
      "text/plain": [
       "<matplotlib.figure.Figure at 0x7fe73cb7e358>"
      ]
     },
     "metadata": {},
     "output_type": "display_data"
    }
   ],
   "source": [
    "### Data exploration visualization code goes here.\n",
    "### Feel free to use as many code cells as needed.\n",
    "import matplotlib.pyplot as plt\n",
    "import random\n",
    "# Visualizations will be shown in the notebook.\n",
    "%matplotlib inline\n",
    "\n",
    "index = random.randint(0, n_train)\n",
    "image =X_train[index]\n",
    "\n",
    "plt.figure(figsize=(1,1))\n",
    "plt.imshow(image)\n",
    "print(df.loc[y_train[index], 'SignName'])\n"
   ]
  },
  {
   "cell_type": "markdown",
   "metadata": {},
   "source": [
    "### Distribution of classes in the sets"
   ]
  },
  {
   "cell_type": "markdown",
   "metadata": {},
   "source": [
    "I analyze the distribution of classes in the sets. Similar to doing histograms. "
   ]
  },
  {
   "cell_type": "code",
   "execution_count": 4,
   "metadata": {},
   "outputs": [
    {
     "data": {
      "image/png": "[encoded data removed]",
      "text/plain": [
       "<matplotlib.figure.Figure at 0x7fe73cb6dba8>"
      ]
     },
     "metadata": {},
     "output_type": "display_data"
    }
   ],
   "source": [
    "# Distribution of classes in the sets\n",
    "\n",
    "#Train\n",
    "train_hist = np.bincount(y_train)\n",
    "\n",
    "#Class, Number of repetitions, ratio compared to max\n",
    "train_hist = [np.arange(0, n_classes), train_hist, train_hist/train_hist.max()]\n",
    "\n",
    "plt.bar(train_hist[0], train_hist[1], color = 'b')\n",
    "plt.title(\"Training set classes. Before adding samples\")\n",
    "plt.xlabel('Classes')\n",
    "plt.show()"
   ]
  },
  {
   "cell_type": "markdown",
   "metadata": {},
   "source": [
    "## Add samples to the training set"
   ]
  },
  {
   "cell_type": "markdown",
   "metadata": {},
   "source": [
    "For the training set, I add classes that are under-represented. I add classes with ratio less than 0.5 w.r.t the class that is more represented.\n",
    "I add that class so that its ratio reaches 0.5"
   ]
  },
  {
   "cell_type": "code",
   "execution_count": 5,
   "metadata": {},
   "outputs": [
    {
     "name": "stdout",
     "output_type": "stream",
     "text": [
      "Adding samples added to training set...\n",
      "\n",
      "More samples added to training set!!!!\n"
     ]
    },
    {
     "data": {
      "image/png": "[encoded data removed]",
      "text/plain": [
       "<matplotlib.figure.Figure at 0x7fe6fd85e550>"
      ]
     },
     "metadata": {},
     "output_type": "display_data"
    }
   ],
   "source": [
    "#Add more samples to the training set\n",
    "\n",
    "print(\"Adding samples added to training set...\")\n",
    "print()\n",
    "\n",
    "#Determine what classes need more presence... those with ratio < 0.5\n",
    "ratio_cond = train_hist[2]<0.5\n",
    "add_train_classes = np.extract(ratio_cond, train_hist[0])\n",
    "\n",
    "\n",
    "#Determine how many times that class is needed\n",
    "times_array=[]\n",
    "\n",
    "#Now I have to go to y_train and get the indexes... and then to X_train and add them...\n",
    "for i in range(0, len(add_train_classes)):\n",
    "    #Number of times I should add that class\n",
    "    times = int(round((1/train_hist[2][add_train_classes[i]])-2))\n",
    "    \n",
    "    #[class, num times needed]\n",
    "    times_array.append([add_train_classes[i], times]) \n",
    "\n",
    "#Add classes as needed, depending on the number of times to be added.\n",
    "for i in range(0, len(times_array)):\n",
    "    y_train_index,  = np.where(y_train == times_array[i][0])\n",
    "    y_train_add = times_array[i][0]*np.ones(len(y_train_index), dtype=np.int)\n",
    "    for j in range(0, times_array[i][1]):\n",
    "        X_train = np.concatenate((X_train, X_train[y_train_index]))\n",
    "        y_train = np.concatenate((y_train, y_train_add))\n",
    "        \n",
    "print(\"More samples added to training set!!!!\")\n",
    "\n",
    "#Training set after adding samples\n",
    "train_hist = np.bincount(y_train)\n",
    "\n",
    "#Class, Number of repetitions, ratio compared to max\n",
    "train_hist = [np.arange(0, n_classes), train_hist, train_hist/train_hist.max()]\n",
    "\n",
    "plt.bar(train_hist[0], train_hist[1], color = 'b')\n",
    "plt.title(\"Training set classes. After adding samples\")\n",
    "plt.xlabel('Classes')\n",
    "plt.show()"
   ]
  },
  {
   "cell_type": "markdown",
   "metadata": {},
   "source": [
    "## Distribution of validation and test sets"
   ]
  },
  {
   "cell_type": "code",
   "execution_count": 6,
   "metadata": {
    "scrolled": false
   },
   "outputs": [
    {
     "data": {
      "image/png": "[encoded data removed]",
      "text/plain": [
       "<matplotlib.figure.Figure at 0x7fe70b07cf60>"
      ]
     },
     "metadata": {},
     "output_type": "display_data"
    },
    {
     "data": {
      "image/png": "[encoded data removed]",
      "text/plain": [
       "<matplotlib.figure.Figure at 0x7fe6fd767630>"
      ]
     },
     "metadata": {},
     "output_type": "display_data"
    }
   ],
   "source": [
    "#Validation\n",
    "valid_hist = np.bincount(y_valid)\n",
    "valid_hist = [np.arange(0, n_classes), valid_hist]\n",
    "\n",
    "plt.bar(valid_hist[0], valid_hist[1], color='r')\n",
    "plt.title(\"Validation set classes\")\n",
    "plt.xlabel('Classes')\n",
    "plt.show()\n",
    "\n",
    "#Test\n",
    "test_hist = np.bincount(y_test)\n",
    "test_hist = [np.arange(0, n_classes), test_hist]\n",
    "\n",
    "plt.bar(valid_hist[0], test_hist[1], color = 'g')\n",
    "plt.title(\"Test set classes\")\n",
    "plt.xlabel('Classes')\n",
    "plt.xlabel('Classes')\n",
    "plt.show()"
   ]
  },
  {
   "cell_type": "markdown",
   "metadata": {},
   "source": [
    "----\n",
    "\n",
    "## Step 2: Design and Test a Model Architecture\n",
    "\n",
    "Design and implement a deep learning model that learns to recognize traffic signs. Train and test your model on the [German Traffic Sign Dataset](http://benchmark.ini.rub.de/?section=gtsrb&subsection=dataset).\n",
    "\n",
    "The LeNet-5 implementation shown in the [classroom](https://classroom.udacity.com/nanodegrees/nd013/parts/fbf77062-5703-404e-b60c-95b78b2f3f9e/modules/6df7ae49-c61c-4bb2-a23e-6527e69209ec/lessons/601ae704-1035-4287-8b11-e2c2716217ad/concepts/d4aca031-508f-4e0b-b493-e7b706120f81) at the end of the CNN lesson is a solid starting point. You'll have to change the number of classes and possibly the preprocessing, but aside from that it's plug and play! \n",
    "\n",
    "With the LeNet-5 solution from the lecture, you should expect a validation set accuracy of about 0.89. To meet specifications, the validation set accuracy will need to be at least 0.93. It is possible to get an even higher accuracy, but 0.93 is the minimum for a successful project submission. \n",
    "\n",
    "There are various aspects to consider when thinking about this problem:\n",
    "\n",
    "- Neural network architecture (is the network over or underfitting?)\n",
    "- Play around preprocessing techniques (normalization, rgb to grayscale, etc)\n",
    "- Number of examples per label (some have more than others).\n",
    "- Generate fake data.\n",
    "\n",
    "Here is an example of a [published baseline model on this problem](http://yann.lecun.com/exdb/publis/pdf/sermanet-ijcnn-11.pdf). It's not required to be familiar with the approach used in the paper but, it's good practice to try to read papers like these."
   ]
  },
  {
   "cell_type": "markdown",
   "metadata": {},
   "source": [
    "Minimally, the image data should be normalized so that the data has mean zero and equal variance. For image data, `(pixel - 128)/ 128` is a quick way to approximately normalize the data and can be used in this project. \n",
    "\n",
    "Other pre-processing steps are optional. You can try different techniques to see if it improves performance. \n",
    "\n",
    "Use the code cell (or multiple code cells, if necessary) to implement the first step of your project."
   ]
  },
  {
   "cell_type": "markdown",
   "metadata": {},
   "source": [
    "### Pre-processing\n",
    "Normalization and grayscale"
   ]
  },
  {
   "cell_type": "code",
   "execution_count": 7,
   "metadata": {
    "collapsed": true
   },
   "outputs": [],
   "source": [
    "import cv2\n",
    "### Preprocess the data here. It is required to normalize the data. Other preprocessing steps could include \n",
    "### converting to grayscale, etc.\n",
    "### Feel free to use as many code cells as needed.\n",
    "\n",
    "#Normalize data function.... From TensorFlow Lab\n",
    "\n",
    "def normalize_grayscale(image_data):\n",
    "    \"\"\"\n",
    "    Normalize the image data with Min-Max scaling to a range of [0.1, 0.9]\n",
    "    :param image_data: The image data to be normalized\n",
    "    :return: Normalized image data\n",
    "    \"\"\"\n",
    "    # TODO: Implement Min-Max scaling for grayscale image data\n",
    "    #image_data = cv2.cvtColor(img, cv2.COLOR_RGB2GRAY)\n",
    "    gray_image_data = np.array([cv2.cvtColor(X, cv2.COLOR_BGR2GRAY) for X in image_data])\n",
    "    #a = 0.1\n",
    "    #b = 0.9\n",
    "    \n",
    "    min_image_data = gray_image_data.min()\n",
    "    max_image_data = gray_image_data.max()\n",
    "    \n",
    "    #norm_image_data = a + ((gray_image_data-min_image_data)*(b-a))/(max_image_data - min_image_data)\n",
    "    norm_image_data = (gray_image_data - min_image_data) / (max_image_data - min_image_data)\n",
    "    return norm_image_data\n",
    "\n"
   ]
  },
  {
   "cell_type": "markdown",
   "metadata": {},
   "source": [
    "Apply normalization and grayscale to all the sets."
   ]
  },
  {
   "cell_type": "code",
   "execution_count": 8,
   "metadata": {},
   "outputs": [
    {
     "name": "stdout",
     "output_type": "stream",
     "text": [
      "(32, 32, 1)\n",
      "(32, 32, 1)\n",
      "(32, 32, 1)\n",
      "Sets normalized\n"
     ]
    }
   ],
   "source": [
    "#Normalize train\n",
    "X_train = normalize_grayscale(X_train)\n",
    "X_train = np.reshape(X_train, (-1, 32, 32, 1))\n",
    "print(X_train[0].shape)\n",
    "\n",
    "\n",
    "#Normalize test\n",
    "X_test = normalize_grayscale(X_test)\n",
    "X_test = np.reshape(X_test, (-1, 32, 32, 1))\n",
    "print(X_test[0].shape)\n",
    "\n",
    "#Normalize validation\n",
    "X_valid = normalize_grayscale(X_valid)\n",
    "X_valid = np.reshape(X_valid, (-1, 32, 32, 1))\n",
    "print(X_valid[0].shape)\n",
    "\n",
    "\n",
    "print('Sets normalized')\n"
   ]
  },
  {
   "cell_type": "markdown",
   "metadata": {},
   "source": [
    "## Model Architecture"
   ]
  },
  {
   "cell_type": "markdown",
   "metadata": {},
   "source": [
    "# Setup TF\n",
    "The EPOCH and BATCH_SIZE values affect the training speed and model accuracy.\n",
    "You do not need to modify this section."
   ]
  },
  {
   "cell_type": "code",
   "execution_count": 9,
   "metadata": {
    "collapsed": true
   },
   "outputs": [],
   "source": [
    "from sklearn.utils import shuffle\n",
    "import tensorflow as tf\n",
    "\n",
    "EPOCHS = 55\n",
    "BATCH_SIZE = 128"
   ]
  },
  {
   "cell_type": "markdown",
   "metadata": {},
   "source": [
    "# Implement LeNet-5\n",
    "This is from the LeNet Lab"
   ]
  },
  {
   "cell_type": "code",
   "execution_count": 10,
   "metadata": {
    "collapsed": true
   },
   "outputs": [],
   "source": [
    "from tensorflow.contrib.layers import flatten\n",
    "\n",
    "def conv2d(x, W, b, strides=1):\n",
    "    x = tf.nn.conv2d(x, W, strides=[1, strides, strides,1], padding='VALID')\n",
    "    x = tf.nn.bias_add(x, b)\n",
    "    return tf.nn.relu(x)\n",
    "\n",
    "def maxpool2d(x, k=2):\n",
    "    return tf.nn.max_pool(\n",
    "        x,\n",
    "        ksize=[1, k, k, 1],\n",
    "        strides=[1, k, k, 1],\n",
    "        padding='VALID')\n",
    "\n",
    "def LeNet(x):    \n",
    "    # Arguments used for tf.truncated_normal, randomly defines variables for the weights and biases for each layer\n",
    "    mu = 0\n",
    "    sigma = 0.1\n",
    "    \n",
    "    #keep_prob = 0.3\n",
    "\n",
    "    \n",
    "    weights = {\n",
    "        'wc1': tf.Variable(tf.truncated_normal([5, 5, 1, 6], mu, sigma)),\n",
    "        'wc2': tf.Variable(tf.truncated_normal([5, 5, 6, 16], mu, sigma)),\n",
    "        'wf1': tf.Variable(tf.truncated_normal([400, 120], mu, sigma)),\n",
    "        'wf2': tf.Variable(tf.truncated_normal([120, 84], mu, sigma)),\n",
    "        'out': tf.Variable(tf.truncated_normal([84, n_classes], mu, sigma))}\n",
    "    \n",
    "    biases  = {\n",
    "        'bc1': tf.Variable(tf.zeros([6])),\n",
    "        'bc2': tf.Variable(tf.zeros([16])),\n",
    "        'bf1': tf.Variable(tf.zeros([120])),\n",
    "        'bf2': tf.Variable(tf.zeros([84])),\n",
    "        'out': tf.Variable(tf.zeros([n_classes]))}\n",
    "    \n",
    "    # TODO: Layer 1: Convolutional. Input = 32x32x1. Output = 28x28x6                      \n",
    "    # TODO: Activation.\n",
    "    # TODO: Pooling. Input = 28x28x6. Output = 14x14x6.\n",
    "    conv1 = conv2d(x, weights['wc1'], biases['bc1'])\n",
    "    conv1 = maxpool2d(conv1, k=2)\n",
    "\n",
    "    # TODO: Layer 2: Convolutional. Output = 10x10x16.\n",
    "    # TODO: Activation.\n",
    "    # TODO: Pooling. Input = 10x10x16. Output = 5x5x16.\n",
    "    conv2 = conv2d(conv1, weights['wc2'], biases['bc2'])\n",
    "    conv2 = maxpool2d(conv2, k=2)\n",
    "\n",
    "    # TODO: Flatten. Input = 5x5x16. Output = 400.\n",
    "    flatten = tf.contrib.layers.flatten(conv2)\n",
    "    \n",
    "    # TODO: Layer 3: Fully Connected. Input = 400. Output = 120.\n",
    "    fc1 = tf.add(tf.matmul(flatten, weights['wf1']), biases['bf1'])\n",
    "    \n",
    "    # TODO: Activation.\n",
    "    fc1 = tf.nn.relu(fc1)\n",
    "    #fc1 = tf.nn.dropout(fc1, 0.3)\n",
    "\n",
    "    # TODO: Layer 4: Fully Connected. Input = 120. Output = 84.\n",
    "    fc2 = tf.add(tf.matmul(fc1, weights['wf2']), biases['bf2'])\n",
    "    \n",
    "    # TODO: Activation.\n",
    "    fc2 = tf.nn.relu(fc2)\n",
    "    #fc2 = tf.nn.dropout(fc2, 0.4)\n",
    "    # TODO: Layer 5: Fully Connected. Input = 84. Output = 43 (n_classes).\n",
    "    logits = tf.add(tf.matmul(fc2, weights['out']), biases['out'])\n",
    "    \n",
    "    return logits"
   ]
  },
  {
   "cell_type": "markdown",
   "metadata": {},
   "source": [
    "# Features and Labels\n",
    "x is a placeholder for a batch of input images. y is a placeholder for a batch of output labels.\n"
   ]
  },
  {
   "cell_type": "code",
   "execution_count": 11,
   "metadata": {
    "collapsed": true
   },
   "outputs": [],
   "source": [
    "x = tf.placeholder(tf.float32, (None, 32, 32, 1))\n",
    "y = tf.placeholder(tf.int32, (None))\n",
    "one_hot_y = tf.one_hot(y, n_classes)"
   ]
  },
  {
   "cell_type": "markdown",
   "metadata": {},
   "source": [
    "### Train, Validate and Test the Model"
   ]
  },
  {
   "cell_type": "markdown",
   "metadata": {},
   "source": [
    "A validation set can be used to assess how well the model is performing. A low accuracy on the training and validation\n",
    "sets imply underfitting. A high accuracy on the training set but low accuracy on the validation set implies overfitting."
   ]
  },
  {
   "cell_type": "code",
   "execution_count": 12,
   "metadata": {
    "collapsed": true
   },
   "outputs": [],
   "source": [
    "### Train your model here.\n",
    "### Calculate and report the accuracy on the training and validation set.\n",
    "### Once a final model architecture is selected, \n",
    "### the accuracy on the test set should be calculated and reported as well.\n",
    "### Feel free to use as many code cells as needed."
   ]
  },
  {
   "cell_type": "markdown",
   "metadata": {},
   "source": [
    "## Training Pipeline"
   ]
  },
  {
   "cell_type": "code",
   "execution_count": 13,
   "metadata": {
    "collapsed": true
   },
   "outputs": [],
   "source": [
    "rate = 0.001\n",
    "\n",
    "logits = LeNet(x)\n",
    "cross_entropy = tf.nn.softmax_cross_entropy_with_logits(labels=one_hot_y, logits=logits)\n",
    "loss_operation = tf.reduce_mean(cross_entropy)\n",
    "optimizer = tf.train.AdamOptimizer(learning_rate = rate)\n",
    "training_operation = optimizer.minimize(loss_operation)"
   ]
  },
  {
   "cell_type": "markdown",
   "metadata": {},
   "source": [
    "## Model Evaluation"
   ]
  },
  {
   "cell_type": "code",
   "execution_count": 14,
   "metadata": {
    "collapsed": true
   },
   "outputs": [],
   "source": [
    "correct_prediction = tf.equal(tf.argmax(logits, 1), tf.argmax(one_hot_y, 1))\n",
    "accuracy_operation = tf.reduce_mean(tf.cast(correct_prediction, tf.float32))\n",
    "saver = tf.train.Saver()\n",
    "\n",
    "def evaluate(X_data, y_data):\n",
    "    num_examples = len(X_data)\n",
    "    total_accuracy = 0\n",
    "    sess = tf.get_default_session()\n",
    "    for offset in range(0, num_examples, BATCH_SIZE):\n",
    "        batch_x, batch_y = X_data[offset:offset+BATCH_SIZE], y_data[offset:offset+BATCH_SIZE]\n",
    "        accuracy = sess.run(accuracy_operation, feed_dict={x: batch_x, y: batch_y})\n",
    "        total_accuracy += (accuracy * len(batch_x))\n",
    "    return total_accuracy / num_examples"
   ]
  },
  {
   "cell_type": "markdown",
   "metadata": {},
   "source": [
    "## Train the Model"
   ]
  },
  {
   "cell_type": "code",
   "execution_count": 15,
   "metadata": {
    "scrolled": false
   },
   "outputs": [
    {
     "name": "stdout",
     "output_type": "stream",
     "text": [
      "Training...\n",
      "\n",
      "EPOCH 1 ...\n",
      "Training Accuracy = 0.91\n",
      "Validation Accuracy = 0.81\n",
      "\n",
      "EPOCH 2 ...\n",
      "Training Accuracy = 0.96\n",
      "Validation Accuracy = 0.85\n",
      "\n",
      "EPOCH 3 ...\n",
      "Training Accuracy = 0.98\n",
      "Validation Accuracy = 0.88\n",
      "\n",
      "EPOCH 4 ...\n",
      "Training Accuracy = 0.98\n",
      "Validation Accuracy = 0.88\n",
      "\n",
      "EPOCH 5 ...\n",
      "Training Accuracy = 0.99\n",
      "Validation Accuracy = 0.91\n",
      "\n",
      "EPOCH 6 ...\n",
      "Training Accuracy = 0.99\n",
      "Validation Accuracy = 0.90\n",
      "\n",
      "EPOCH 7 ...\n",
      "Training Accuracy = 0.99\n",
      "Validation Accuracy = 0.90\n",
      "\n",
      "EPOCH 8 ...\n",
      "Training Accuracy = 0.99\n",
      "Validation Accuracy = 0.91\n",
      "\n",
      "EPOCH 9 ...\n",
      "Training Accuracy = 1.00\n",
      "Validation Accuracy = 0.92\n",
      "\n",
      "EPOCH 10 ...\n",
      "Training Accuracy = 1.00\n",
      "Validation Accuracy = 0.92\n",
      "\n",
      "EPOCH 11 ...\n",
      "Training Accuracy = 0.99\n",
      "Validation Accuracy = 0.90\n",
      "\n",
      "EPOCH 12 ...\n",
      "Training Accuracy = 1.00\n",
      "Validation Accuracy = 0.91\n",
      "\n",
      "EPOCH 13 ...\n",
      "Training Accuracy = 0.98\n",
      "Validation Accuracy = 0.88\n",
      "\n",
      "EPOCH 14 ...\n",
      "Training Accuracy = 1.00\n",
      "Validation Accuracy = 0.92\n",
      "\n",
      "EPOCH 15 ...\n",
      "Training Accuracy = 1.00\n",
      "Validation Accuracy = 0.92\n",
      "\n",
      "EPOCH 16 ...\n",
      "Training Accuracy = 1.00\n",
      "Validation Accuracy = 0.93\n",
      "\n",
      "EPOCH 17 ...\n",
      "Training Accuracy = 1.00\n",
      "Validation Accuracy = 0.93\n",
      "\n",
      "EPOCH 18 ...\n",
      "Training Accuracy = 1.00\n",
      "Validation Accuracy = 0.94\n",
      "\n",
      "EPOCH 19 ...\n",
      "Training Accuracy = 1.00\n",
      "Validation Accuracy = 0.92\n",
      "\n",
      "EPOCH 20 ...\n",
      "Training Accuracy = 1.00\n",
      "Validation Accuracy = 0.93\n",
      "\n",
      "EPOCH 21 ...\n",
      "Training Accuracy = 1.00\n",
      "Validation Accuracy = 0.92\n",
      "\n",
      "EPOCH 22 ...\n",
      "Training Accuracy = 1.00\n",
      "Validation Accuracy = 0.92\n",
      "\n",
      "EPOCH 23 ...\n",
      "Training Accuracy = 1.00\n",
      "Validation Accuracy = 0.95\n",
      "\n",
      "EPOCH 24 ...\n",
      "Training Accuracy = 0.99\n",
      "Validation Accuracy = 0.91\n",
      "\n",
      "EPOCH 25 ...\n",
      "Training Accuracy = 1.00\n",
      "Validation Accuracy = 0.93\n",
      "\n",
      "EPOCH 26 ...\n",
      "Training Accuracy = 1.00\n",
      "Validation Accuracy = 0.94\n",
      "\n",
      "EPOCH 27 ...\n",
      "Training Accuracy = 1.00\n",
      "Validation Accuracy = 0.94\n",
      "\n",
      "EPOCH 28 ...\n",
      "Training Accuracy = 1.00\n",
      "Validation Accuracy = 0.93\n",
      "\n",
      "EPOCH 29 ...\n",
      "Training Accuracy = 1.00\n",
      "Validation Accuracy = 0.93\n",
      "\n",
      "EPOCH 30 ...\n",
      "Training Accuracy = 1.00\n",
      "Validation Accuracy = 0.94\n",
      "\n",
      "EPOCH 31 ...\n",
      "Training Accuracy = 1.00\n",
      "Validation Accuracy = 0.93\n",
      "\n",
      "EPOCH 32 ...\n",
      "Training Accuracy = 1.00\n",
      "Validation Accuracy = 0.94\n",
      "\n",
      "EPOCH 33 ...\n",
      "Training Accuracy = 1.00\n",
      "Validation Accuracy = 0.94\n",
      "\n",
      "EPOCH 34 ...\n",
      "Training Accuracy = 1.00\n",
      "Validation Accuracy = 0.94\n",
      "\n",
      "EPOCH 35 ...\n",
      "Training Accuracy = 1.00\n",
      "Validation Accuracy = 0.94\n",
      "\n",
      "EPOCH 36 ...\n",
      "Training Accuracy = 1.00\n",
      "Validation Accuracy = 0.92\n",
      "\n",
      "EPOCH 37 ...\n",
      "Training Accuracy = 1.00\n",
      "Validation Accuracy = 0.93\n",
      "\n",
      "EPOCH 38 ...\n",
      "Training Accuracy = 1.00\n",
      "Validation Accuracy = 0.93\n",
      "\n",
      "EPOCH 39 ...\n",
      "Training Accuracy = 1.00\n",
      "Validation Accuracy = 0.93\n",
      "\n",
      "EPOCH 40 ...\n",
      "Training Accuracy = 1.00\n",
      "Validation Accuracy = 0.94\n",
      "\n",
      "EPOCH 41 ...\n",
      "Training Accuracy = 1.00\n",
      "Validation Accuracy = 0.94\n",
      "\n",
      "EPOCH 42 ...\n",
      "Training Accuracy = 1.00\n",
      "Validation Accuracy = 0.93\n",
      "\n",
      "EPOCH 43 ...\n",
      "Training Accuracy = 1.00\n",
      "Validation Accuracy = 0.93\n",
      "\n",
      "EPOCH 44 ...\n",
      "Training Accuracy = 1.00\n",
      "Validation Accuracy = 0.95\n",
      "\n",
      "EPOCH 45 ...\n",
      "Training Accuracy = 1.00\n",
      "Validation Accuracy = 0.95\n",
      "\n",
      "EPOCH 46 ...\n",
      "Training Accuracy = 1.00\n",
      "Validation Accuracy = 0.95\n",
      "\n",
      "EPOCH 47 ...\n",
      "Training Accuracy = 1.00\n",
      "Validation Accuracy = 0.95\n",
      "\n",
      "EPOCH 48 ...\n",
      "Training Accuracy = 1.00\n",
      "Validation Accuracy = 0.95\n",
      "\n",
      "EPOCH 49 ...\n",
      "Training Accuracy = 1.00\n",
      "Validation Accuracy = 0.95\n",
      "\n",
      "EPOCH 50 ...\n",
      "Training Accuracy = 1.00\n",
      "Validation Accuracy = 0.95\n",
      "\n",
      "EPOCH 51 ...\n",
      "Training Accuracy = 1.00\n",
      "Validation Accuracy = 0.95\n",
      "\n",
      "EPOCH 52 ...\n",
      "Training Accuracy = 1.00\n",
      "Validation Accuracy = 0.95\n",
      "\n",
      "EPOCH 53 ...\n",
      "Training Accuracy = 1.00\n",
      "Validation Accuracy = 0.95\n",
      "\n",
      "EPOCH 54 ...\n",
      "Training Accuracy = 1.00\n",
      "Validation Accuracy = 0.95\n",
      "\n",
      "EPOCH 55 ...\n",
      "Training Accuracy = 1.00\n",
      "Validation Accuracy = 0.95\n",
      "\n"
     ]
    },
    {
     "data": {
      "image/png": "[encoded data removed]",
      "text/plain": [
       "<matplotlib.figure.Figure at 0x7fe69612f828>"
      ]
     },
     "metadata": {},
     "output_type": "display_data"
    },
    {
     "name": "stdout",
     "output_type": "stream",
     "text": [
      "\n",
      "Model saved\n"
     ]
    }
   ],
   "source": [
    "loss_epoch = []\n",
    "train_epoch = []\n",
    "valid_epoch = []\n",
    "\n",
    "\n",
    "with tf.Session() as sess:\n",
    "    sess.run(tf.global_variables_initializer())\n",
    "    num_examples = len(X_train)\n",
    "    \n",
    "    print(\"Training...\")\n",
    "    print()\n",
    "    for i in range(EPOCHS):\n",
    "        X_train, y_train = shuffle(X_train, y_train)\n",
    "        for offset in range(0, num_examples, BATCH_SIZE):\n",
    "            end = offset + BATCH_SIZE\n",
    "            batch_x, batch_y = X_train[offset:end], y_train[offset:end]\n",
    "            sess.run(training_operation, feed_dict={x: batch_x, y: batch_y})\n",
    "            \n",
    "        #Get the loss in training\n",
    "        loss_train = sess.run(loss_operation, feed_dict={x: batch_x, y: batch_y})\n",
    "        loss_epoch.append(loss_train)\n",
    "         \n",
    "        #Training and validation accuracy\n",
    "        train_accuracy = evaluate(X_train, y_train)\n",
    "        validation_accuracy = evaluate(X_valid, y_valid)\n",
    "\n",
    "        #Put in an array to plot latter\n",
    "        train_epoch.append(train_accuracy)\n",
    "        valid_epoch.append(validation_accuracy)\n",
    "\n",
    "        \n",
    "        \n",
    "        print(\"EPOCH {} ...\".format(i+1))\n",
    "        print(\"Training Accuracy = {:.2f}\".format(train_accuracy))\n",
    "        print(\"Validation Accuracy = {:.2f}\".format(validation_accuracy))\n",
    "        print()\n",
    "    \n",
    "\n",
    "    \n",
    "    #Plot loss and accuracies (train and validation)\n",
    "    loss_plot = plt.subplot(211)\n",
    "    loss_plot.set_title('Loss')\n",
    "    loss_plot.plot(loss_epoch, 'g')\n",
    "    \n",
    "    acc_plot = plt.subplot(212)\n",
    "    acc_plot.set_title('Accuracy')\n",
    "    acc_plot.plot(train_epoch, 'b', label='Training Accuracy')\n",
    "    acc_plot.plot(valid_epoch, 'r', label='Validation Accuracy')\n",
    "    acc_plot.legend(loc=4)\n",
    "    plt.tight_layout()\n",
    "    plt.show()  \n",
    "    \n",
    "    \n",
    "    print()\n",
    "    saver.save(sess, './lenet')\n",
    "    print(\"Model saved\")\n",
    "    \n"
   ]
  },
  {
   "cell_type": "markdown",
   "metadata": {},
   "source": [
    "### Accuracy on Test set"
   ]
  },
  {
   "cell_type": "code",
   "execution_count": 16,
   "metadata": {},
   "outputs": [
    {
     "name": "stdout",
     "output_type": "stream",
     "text": [
      "Test Accuracy = 0.93\n"
     ]
    }
   ],
   "source": [
    "with tf.Session() as sess:\n",
    "    saver.restore(sess, tf.train.latest_checkpoint('.'))\n",
    "\n",
    "    test_accuracy = evaluate(X_test, y_test)\n",
    "    print(\"Test Accuracy = {:.2f}\".format(test_accuracy))"
   ]
  },
  {
   "cell_type": "markdown",
   "metadata": {},
   "source": [
    "---\n",
    "\n",
    "## Step 3: Test a Model on New Images\n",
    "\n",
    "To give yourself more insight into how your model is working, download at least five pictures of German traffic signs from the web and use your model to predict the traffic sign type.\n",
    "\n",
    "You may find `signnames.csv` useful as it contains mappings from the class id (integer) to the actual sign name."
   ]
  },
  {
   "cell_type": "markdown",
   "metadata": {},
   "source": [
    "### Load and Output the Images"
   ]
  },
  {
   "cell_type": "markdown",
   "metadata": {},
   "source": [
    "Images are not 32x32. Thus, I have to resize to 32x32.\n",
    "Images should be cropped before loading so taht the ratio is 1:1\n",
    "\n",
    "I tried loading the images without cropping and then do resize and padding. However the accuracy was 0... so I had to to the cropping and delete the padding phase."
   ]
  },
  {
   "cell_type": "code",
   "execution_count": 17,
   "metadata": {
    "scrolled": false
   },
   "outputs": [
    {
     "data": {
      "image/png": "[encoded data removed]",
      "text/plain": [
       "<matplotlib.figure.Figure at 0x7fe6dd09cbe0>"
      ]
     },
     "metadata": {},
     "output_type": "display_data"
    },
    {
     "data": {
      "image/png": "[encoded data removed]",
      "text/plain": [
       "<matplotlib.figure.Figure at 0x7fe6c77d9be0>"
      ]
     },
     "metadata": {},
     "output_type": "display_data"
    },
    {
     "data": {
      "image/png": "[encoded data removed]",
      "text/plain": [
       "<matplotlib.figure.Figure at 0x7fe6fd8db320>"
      ]
     },
     "metadata": {},
     "output_type": "display_data"
    },
    {
     "data": {
      "image/png": "[encoded data removed]",
      "text/plain": [
       "<matplotlib.figure.Figure at 0x7fe6c77f29b0>"
      ]
     },
     "metadata": {},
     "output_type": "display_data"
    },
    {
     "data": {
      "image/png": "[encoded data removed]",
      "text/plain": [
       "<matplotlib.figure.Figure at 0x7fe6c77b2128>"
      ]
     },
     "metadata": {},
     "output_type": "display_data"
    },
    {
     "data": {
      "image/png": "[encoded data removed]",
      "text/plain": [
       "<matplotlib.figure.Figure at 0x7fe6c76dd8d0>"
      ]
     },
     "metadata": {},
     "output_type": "display_data"
    },
    {
     "data": {
      "image/png": "[encoded data removed]",
      "text/plain": [
       "<matplotlib.figure.Figure at 0x7fe6c76c5b70>"
      ]
     },
     "metadata": {},
     "output_type": "display_data"
    },
    {
     "data": {
      "image/png": "[encoded data removed]",
      "text/plain": [
       "<matplotlib.figure.Figure at 0x7fe6c7677240>"
      ]
     },
     "metadata": {},
     "output_type": "display_data"
    },
    {
     "data": {
      "image/png": "[encoded data removed]",
      "text/plain": [
       "<matplotlib.figure.Figure at 0x7fe6c7668358>"
      ]
     },
     "metadata": {},
     "output_type": "display_data"
    },
    {
     "data": {
      "image/png": "[encoded data removed]",
      "text/plain": [
       "<matplotlib.figure.Figure at 0x7fe6c7595278>"
      ]
     },
     "metadata": {},
     "output_type": "display_data"
    }
   ],
   "source": [
    "### Load the images and plot them here.\n",
    "### Feel free to use as many code cells as needed.\n",
    "import os\n",
    "import matplotlib.image as mpimg\n",
    "\n",
    "#Function to resize image to 32x32 keeping proportions\n",
    "def resize_image(image):\n",
    "    r = 32.0 / image.shape[1]\n",
    "    dim = (32, int(image.shape[0] * r))\n",
    " \n",
    "    # perform the actual resizing of the image\n",
    "    resized = cv2.resize(image, dim, interpolation = cv2.INTER_LINEAR)\n",
    "    return resized\n",
    "                         \n",
    "#Items is the list of input files\n",
    "directory_input = \"traffic_signs_test/\"\n",
    "input_items = os.listdir(directory_input)\n",
    "\n",
    "#New images sets\n",
    "#X: images\n",
    "#y: classes\n",
    "X_test_set = []\n",
    "y_test_set = []\n",
    "\n",
    "#For each image\n",
    "for input_file in input_items:\n",
    "    path_input = os.path.join(directory_input, input_file)\n",
    "    base=os.path.basename(path_input)\n",
    "    \n",
    "    #Extract the class from the image file name\n",
    "    y_test_image = int(os.path.splitext(base)[0])\n",
    "    \n",
    "    #read image\n",
    "    X_test_image = mpimg.imread(path_input)\n",
    "    \n",
    "    #Plot traffic signs (No resized)\n",
    "    plt.figure(figsize=(1,1))\n",
    "    plt.imshow(X_test_image)\n",
    "    plt.title(df.loc[y_test_image, 'SignName']+ '\\n No Resized')\n",
    "    \n",
    "    #Resize to 32x32\n",
    "    X_test_image = resize_image(X_test_image)\n",
    "    \n",
    "    \n",
    "    #Need to make it 32x32 (I have X x 32... so pad!!!)... \n",
    "    #At the end this padding gave me bad results (Accuracy 0...) so I had to crop the image to ratio 1:1...\n",
    "    ##npad = ((0,32-X_test_image.shape[0]), (0,0), (0,0))\n",
    "    #X_test_image = np.pad(X_test_image, npad, 'constant')\n",
    "    \n",
    "    #print(X_test_image.shape)\n",
    "    \n",
    "    \n",
    "    #Now I have everythin in the dimensions I want\n",
    "    X_test_set.append(X_test_image)\n",
    "    y_test_set.append(y_test_image)\n",
    "    \n",
    "    #Plot traffic signs (Resized)\n",
    "    plt.figure(figsize=(1,1))\n",
    "    plt.imshow(X_test_image)\n",
    "    plt.title(df.loc[y_test_image, 'SignName']+'\\n Resized 32x32')\n",
    "\n",
    "    "
   ]
  },
  {
   "cell_type": "markdown",
   "metadata": {},
   "source": [
    "### Predict the Sign Type for Each Image"
   ]
  },
  {
   "cell_type": "code",
   "execution_count": 18,
   "metadata": {
    "collapsed": true
   },
   "outputs": [],
   "source": [
    "### Run the predictions here and use the model to output the prediction for each image.\n",
    "### Make sure to pre-process the images with the same pre-processing pipeline used earlier.\n",
    "### Feel free to use as many code cells as needed."
   ]
  },
  {
   "cell_type": "markdown",
   "metadata": {},
   "source": [
    "### Normalize and grayscale "
   ]
  },
  {
   "cell_type": "code",
   "execution_count": 19,
   "metadata": {},
   "outputs": [
    {
     "name": "stdout",
     "output_type": "stream",
     "text": [
      "(32, 32, 1)\n"
     ]
    }
   ],
   "source": [
    "#Normalize test\n",
    "X_test_set = normalize_grayscale(X_test_set)\n",
    "X_test_set = np.reshape(X_test_set, (-1, 32, 32, 1))\n",
    "print(X_test_set[0].shape)"
   ]
  },
  {
   "cell_type": "markdown",
   "metadata": {},
   "source": [
    "### Prediction and analysis of performance"
   ]
  },
  {
   "cell_type": "markdown",
   "metadata": {},
   "source": [
    "Calculate Top 5 softmax probabilities and its corresponding classes.\n",
    "\n",
    "Determine what is the most probable class for each test image\n",
    "\n",
    "Determine accuracy of this new test set\n",
    "\n",
    "Print the predicted and true sign"
   ]
  },
  {
   "cell_type": "code",
   "execution_count": 20,
   "metadata": {
    "scrolled": true
   },
   "outputs": [
    {
     "name": "stdout",
     "output_type": "stream",
     "text": [
      "Top five softmax probabilities\n",
      "[[  8.45175803e-01   1.30964383e-01   2.35819314e-02   1.02601327e-04\n",
      "    9.69524699e-05]\n",
      " [  1.00000000e+00   6.69432635e-30   0.00000000e+00   0.00000000e+00\n",
      "    0.00000000e+00]\n",
      " [  1.00000000e+00   2.21606903e-29   2.52736599e-37   2.15935469e-38\n",
      "    0.00000000e+00]\n",
      " [  9.99999285e-01   6.84351278e-07   3.06046378e-25   1.38077976e-26\n",
      "    7.92631844e-32]\n",
      " [  9.78754461e-01   1.86317824e-02   2.50672596e-03   6.59986617e-05\n",
      "    1.33924286e-05]]\n",
      "\n",
      "Class ID Top five softmax probabilities\n",
      "[[33 35 13  1 15]\n",
      " [11 30  0  1  2]\n",
      " [17 26 40 30  0]\n",
      " [11 21 12 30  5]\n",
      " [40 18  1 33 26]]\n",
      "\n",
      "Most probable class predictions\n",
      "[33 11 17 11 40]\n",
      "\n",
      "Ground of truth\n",
      "[14, 11, 17, 23, 29]\n",
      "\n",
      "\n",
      "PREDICTED...  Turn right ahead . TRUTH...  Stop\n",
      "Top 5 predictions for  Stop \n",
      " 33        Turn right ahead\n",
      "35              Ahead only\n",
      "13                   Yield\n",
      "1     Speed limit (30km/h)\n",
      "15             No vehicles\n",
      "Name: SignName, dtype: object\n",
      "\n",
      "Probabilities for  Stop \n",
      " [  8.45175803e-01   1.30964383e-01   2.35819314e-02   1.02601327e-04\n",
      "   9.69524699e-05]\n",
      "\n",
      "\n",
      "PREDICTED...  Right-of-way at the next intersection . TRUTH...  Right-of-way at the next intersection\n",
      "Top 5 predictions for  Right-of-way at the next intersection \n",
      " 11    Right-of-way at the next intersection\n",
      "30                       Beware of ice/snow\n",
      "0                      Speed limit (20km/h)\n",
      "1                      Speed limit (30km/h)\n",
      "2                      Speed limit (50km/h)\n",
      "Name: SignName, dtype: object\n",
      "\n",
      "Probabilities for  Right-of-way at the next intersection \n",
      " [  1.00000000e+00   6.69432635e-30   0.00000000e+00   0.00000000e+00\n",
      "   0.00000000e+00]\n",
      "\n",
      "\n",
      "PREDICTED...  No entry . TRUTH...  No entry\n",
      "Top 5 predictions for  No entry \n",
      " 17                No entry\n",
      "26         Traffic signals\n",
      "40    Roundabout mandatory\n",
      "30      Beware of ice/snow\n",
      "0     Speed limit (20km/h)\n",
      "Name: SignName, dtype: object\n",
      "\n",
      "Probabilities for  No entry \n",
      " [  1.00000000e+00   2.21606903e-29   2.52736599e-37   2.15935469e-38\n",
      "   0.00000000e+00]\n",
      "\n",
      "\n",
      "PREDICTED...  Right-of-way at the next intersection . TRUTH...  Slippery road\n",
      "Top 5 predictions for  Slippery road \n",
      " 11    Right-of-way at the next intersection\n",
      "21                             Double curve\n",
      "12                            Priority road\n",
      "30                       Beware of ice/snow\n",
      "5                      Speed limit (80km/h)\n",
      "Name: SignName, dtype: object\n",
      "\n",
      "Probabilities for  Slippery road \n",
      " [  9.99999285e-01   6.84351278e-07   3.06046378e-25   1.38077976e-26\n",
      "   7.92631844e-32]\n",
      "\n",
      "\n",
      "PREDICTED...  Roundabout mandatory . TRUTH...  Bicycles crossing\n",
      "Top 5 predictions for  Bicycles crossing \n",
      " 40    Roundabout mandatory\n",
      "18         General caution\n",
      "1     Speed limit (30km/h)\n",
      "33        Turn right ahead\n",
      "26         Traffic signals\n",
      "Name: SignName, dtype: object\n",
      "\n",
      "Probabilities for  Bicycles crossing \n",
      " [  9.78754461e-01   1.86317824e-02   2.50672596e-03   6.59986617e-05\n",
      "   1.33924286e-05]\n",
      "\n",
      "Test Accuracy = 0.400\n"
     ]
    }
   ],
   "source": [
    "#Prediction\n",
    "softmax = tf.nn.softmax(logits)\n",
    "\n",
    "with tf.Session() as sess:\n",
    "    saver.restore(sess, tf.train.latest_checkpoint('.'))\n",
    "\n",
    "    X_test_set, y_test_set = shuffle(X_test_set, y_test_set)\n",
    "    \n",
    "    prediction = sess.run(softmax, feed_dict={x: X_test_set})\n",
    "    \n",
    "    top_prob, top_ind = tf.nn.top_k(tf.constant(prediction), 5)\n",
    "    probs = sess.run(top_prob)\n",
    "    label = sess.run(top_ind)\n",
    "    print(\"Top five softmax probabilities\")\n",
    "    print(probs)\n",
    "    print()\n",
    "    print(\"Class ID Top five softmax probabilities\")\n",
    "    print(label)\n",
    "    print()\n",
    "    print(\"Most probable class predictions\")\n",
    "    print(label[:,0])\n",
    "    print()\n",
    "    print(\"Ground of truth\")\n",
    "    print(y_test_set)\n",
    "    \n",
    "    test_accuracy = evaluate(X_test_set, y_test_set)\n",
    "    \n",
    "  #  plt.figure(figsize=(1,1))\n",
    "  #  plt.imshow(X_test_image)\n",
    "  #  plt.title()\n",
    "\n",
    "    for i in range(0, len(label)):\n",
    "        print()\n",
    "        print()\n",
    "        predicted = df.loc[label[i,0], 'SignName']\n",
    "        truth = df.loc[y_test_set[i], 'SignName']\n",
    "        \n",
    "        print(\"PREDICTED... \", predicted, \". TRUTH... \", truth)\n",
    "        \n",
    "        print(\"Top 5 predictions for \", truth, \"\\n\", df.loc[label[i], 'SignName'])\n",
    "        print()\n",
    "        print(\"Probabilities for \", truth, \"\\n\", probs[i])\n",
    "\n",
    "    print()\n",
    "    print(\"Test Accuracy = {:.3f}\".format(test_accuracy))"
   ]
  },
  {
   "cell_type": "markdown",
   "metadata": {},
   "source": [
    "### Output Top 5 Softmax Probabilities For Each Image Found on the Web"
   ]
  },
  {
   "cell_type": "markdown",
   "metadata": {},
   "source": [
    "For each of the new images, print out the model's softmax probabilities to show the **certainty** of the model's predictions (limit the output to the top 5 probabilities for each image). [`tf.nn.top_k`](https://www.tensorflow.org/versions/r0.12/api_docs/python/nn.html#top_k) could prove helpful here. \n",
    "\n",
    "The example below demonstrates how tf.nn.top_k can be used to find the top k predictions for each image.\n",
    "\n",
    "`tf.nn.top_k` will return the values and indices (class ids) of the top k predictions. So if k=3, for each sign, it'll return the 3 largest probabilities (out of a possible 43) and the correspoding class ids.\n",
    "\n",
    "Take this numpy array as an example. The values in the array represent predictions. The array contains softmax probabilities for five candidate images with six possible classes. `tk.nn.top_k` is used to choose the three classes with the highest probability:\n",
    "\n",
    "```\n",
    "# (5, 6) array\n",
    "a = np.array([[ 0.24879643,  0.07032244,  0.12641572,  0.34763842,  0.07893497,\n",
    "         0.12789202],\n",
    "       [ 0.28086119,  0.27569815,  0.08594638,  0.0178669 ,  0.18063401,\n",
    "         0.15899337],\n",
    "       [ 0.26076848,  0.23664738,  0.08020603,  0.07001922,  0.1134371 ,\n",
    "         0.23892179],\n",
    "       [ 0.11943333,  0.29198961,  0.02605103,  0.26234032,  0.1351348 ,\n",
    "         0.16505091],\n",
    "       [ 0.09561176,  0.34396535,  0.0643941 ,  0.16240774,  0.24206137,\n",
    "         0.09155967]])\n",
    "```\n",
    "\n",
    "Running it through `sess.run(tf.nn.top_k(tf.constant(a), k=3))` produces:\n",
    "\n",
    "```\n",
    "TopKV2(values=array([[ 0.34763842,  0.24879643,  0.12789202],\n",
    "       [ 0.28086119,  0.27569815,  0.18063401],\n",
    "       [ 0.26076848,  0.23892179,  0.23664738],\n",
    "       [ 0.29198961,  0.26234032,  0.16505091],\n",
    "       [ 0.34396535,  0.24206137,  0.16240774]]), indices=array([[3, 0, 5],\n",
    "       [0, 1, 4],\n",
    "       [0, 5, 1],\n",
    "       [1, 3, 5],\n",
    "       [1, 4, 3]], dtype=int32))\n",
    "```\n",
    "\n",
    "Looking just at the first row we get `[ 0.34763842,  0.24879643,  0.12789202]`, you can confirm these are the 3 largest probabilities in `a`. You'll also notice `[3, 0, 5]` are the corresponding indices."
   ]
  },
  {
   "cell_type": "markdown",
   "metadata": {},
   "source": [
    "### Project Writeup\n",
    "\n",
    "Once you have completed the code implementation, document your results in a project writeup using this [template](https://github.com/udacity/CarND-Traffic-Sign-Classifier-Project/blob/master/writeup_template.md) as a guide. The writeup can be in a markdown or pdf file. "
   ]
  },
  {
   "cell_type": "markdown",
   "metadata": {},
   "source": [
    "> **Note**: Once you have completed all of the code implementations and successfully answered each question above, you may finalize your work by exporting the iPython Notebook as an HTML document. You can do this by using the menu above and navigating to  \\n\",\n",
    "    \"**File -> Download as -> HTML (.html)**. Include the finished document along with this notebook as your submission."
   ]
  },
  {
   "cell_type": "markdown",
   "metadata": {},
   "source": [
    "---\n",
    "\n",
    "## Step 4 (Optional): Visualize the Neural Network's State with Test Images\n",
    "\n",
    " This Section is not required to complete but acts as an additional excersise for understaning the output of a neural network's weights. While neural networks can be a great learning device they are often referred to as a black box. We can understand what the weights of a neural network look like better by plotting their feature maps. After successfully training your neural network you can see what it's feature maps look like by plotting the output of the network's weight layers in response to a test stimuli image. From these plotted feature maps, it's possible to see what characteristics of an image the network finds interesting. For a sign, maybe the inner network feature maps react with high activation to the sign's boundary outline or to the contrast in the sign's painted symbol.\n",
    "\n",
    " Provided for you below is the function code that allows you to get the visualization output of any tensorflow weight layer you want. The inputs to the function should be a stimuli image, one used during training or a new one you provided, and then the tensorflow variable name that represents the layer's state during the training process, for instance if you wanted to see what the [LeNet lab's](https://classroom.udacity.com/nanodegrees/nd013/parts/fbf77062-5703-404e-b60c-95b78b2f3f9e/modules/6df7ae49-c61c-4bb2-a23e-6527e69209ec/lessons/601ae704-1035-4287-8b11-e2c2716217ad/concepts/d4aca031-508f-4e0b-b493-e7b706120f81) feature maps looked like for it's second convolutional layer you could enter conv2 as the tf_activation variable.\n",
    "\n",
    "For an example of what feature map outputs look like, check out NVIDIA's results in their paper [End-to-End Deep Learning for Self-Driving Cars](https://devblogs.nvidia.com/parallelforall/deep-learning-self-driving-cars/) in the section Visualization of internal CNN State. NVIDIA was able to show that their network's inner weights had high activations to road boundary lines by comparing feature maps from an image with a clear path to one without. Try experimenting with a similar test to show that your trained network's weights are looking for interesting features, whether it's looking at differences in feature maps from images with or without a sign, or even what feature maps look like in a trained network vs a completely untrained one on the same sign image.\n",
    "\n",
    "<figure>\n",
    " <img src=\"visualize_cnn.png\" width=\"380\" alt=\"Combined Image\" />\n",
    " <figcaption>\n",
    " <p></p> \n",
    " <p style=\"text-align: center;\"> Your output should look something like this (above)</p> \n",
    " </figcaption>\n",
    "</figure>\n",
    " <p></p> \n"
   ]
  },
  {
   "cell_type": "code",
   "execution_count": null,
   "metadata": {
    "collapsed": true
   },
   "outputs": [],
   "source": [
    "### Visualize your network's feature maps here.\n",
    "### Feel free to use as many code cells as needed.\n",
    "\n",
    "# image_input: the test image being fed into the network to produce the feature maps\n",
    "# tf_activation: should be a tf variable name used during your training procedure that represents the calculated state of a specific weight layer\n",
    "# activation_min/max: can be used to view the activation contrast in more detail, by default matplot sets min and max to the actual min and max values of the output\n",
    "# plt_num: used to plot out multiple different weight feature map sets on the same block, just extend the plt number for each new feature map entry\n",
    "\n",
    "def outputFeatureMap(image_input, tf_activation, activation_min=-1, activation_max=-1 ,plt_num=1):\n",
    "    # Here make sure to preprocess your image_input in a way your network expects\n",
    "    # with size, normalization, ect if needed\n",
    "    # image_input =\n",
    "    # Note: x should be the same name as your network's tensorflow data placeholder variable\n",
    "    # If you get an error tf_activation is not defined it may be having trouble accessing the variable from inside a function\n",
    "    activation = tf_activation.eval(session=sess,feed_dict={x : image_input})\n",
    "    featuremaps = activation.shape[3]\n",
    "    plt.figure(plt_num, figsize=(15,15))\n",
    "    for featuremap in range(featuremaps):\n",
    "        plt.subplot(6,8, featuremap+1) # sets the number of feature maps to show on each row and column\n",
    "        plt.title('FeatureMap ' + str(featuremap)) # displays the feature map number\n",
    "        if activation_min != -1 & activation_max != -1:\n",
    "            plt.imshow(activation[0,:,:, featuremap], interpolation=\"nearest\", vmin =activation_min, vmax=activation_max, cmap=\"gray\")\n",
    "        elif activation_max != -1:\n",
    "            plt.imshow(activation[0,:,:, featuremap], interpolation=\"nearest\", vmax=activation_max, cmap=\"gray\")\n",
    "        elif activation_min !=-1:\n",
    "            plt.imshow(activation[0,:,:, featuremap], interpolation=\"nearest\", vmin=activation_min, cmap=\"gray\")\n",
    "        else:\n",
    "            plt.imshow(activation[0,:,:, featuremap], interpolation=\"nearest\", cmap=\"gray\")"
   ]
  }
 ],
 "metadata": {
  "anaconda-cloud": {},
  "kernelspec": {
   "display_name": "Python 3",
   "language": "python",
   "name": "python3"
  },
  "language_info": {
   "codemirror_mode": {
    "name": "ipython",
    "version": 3
   },
   "file_extension": ".py",
   "mimetype": "text/x-python",
   "name": "python",
   "nbconvert_exporter": "python",
   "pygments_lexer": "ipython3",
   "version": "3.5.2"
  },
  "widgets": {
   "state": {},
   "version": "1.1.2"
  }
 },
 "nbformat": 4,
 "nbformat_minor": 1
}
